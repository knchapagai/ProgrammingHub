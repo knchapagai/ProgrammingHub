{
  "nbformat": 4,
  "nbformat_minor": 0,
  "metadata": {
    "colab": {
      "name": "Leapyear.ipynb",
      "provenance": []
    },
    "kernelspec": {
      "name": "python3",
      "display_name": "Python 3"
    },
    "language_info": {
      "name": "python"
    }
  },
  "cells": [
    {
      "cell_type": "markdown",
      "metadata": {
        "id": "qpXwAKDfdQ59"
      },
      "source": [
        "# Determine whether a year is a leap year or not"
      ]
    },
    {
      "cell_type": "code",
      "metadata": {
        "colab": {
          "base_uri": "https://localhost:8080/",
          "height": 52
        },
        "id": "gTYKVUGRdWMX",
        "outputId": "85947ca9-6dcd-4743-8fb5-5f2a85d34a92"
      },
      "source": [
        "# Write a function to determine whether a year is a leap year of not.\n",
        "# The year is only a leap year if that year is completely divisible by 4.\n",
        "# So if the year is a leap year the program will print true otherwise it will print false.\n",
        "\n",
        "def is_leap(year):\n",
        "  1900<=year and year<=10**5\n",
        "  if year%4==0 or (year%100==0 and year%400==0):\n",
        "      result = 'True'\n",
        "  else:\n",
        "      result = 'False'\n",
        "  return result        \n",
        "    \n",
        "year = int(input())\n",
        "is_leap(year)"
      ],
      "execution_count": 1,
      "outputs": [
        {
          "name": "stdout",
          "output_type": "stream",
          "text": [
            "1998\n"
          ]
        },
        {
          "output_type": "execute_result",
          "data": {
            "application/vnd.google.colaboratory.intrinsic+json": {
              "type": "string"
            },
            "text/plain": [
              "'False'"
            ]
          },
          "metadata": {},
          "execution_count": 1
        }
      ]
    },
    {
      "cell_type": "code",
      "metadata": {
        "id": "UH_N2hxbdZXi"
      },
      "source": [
        "# Hence the year 1998 is not a leap year."
      ],
      "execution_count": null,
      "outputs": []
    }
  ]
}